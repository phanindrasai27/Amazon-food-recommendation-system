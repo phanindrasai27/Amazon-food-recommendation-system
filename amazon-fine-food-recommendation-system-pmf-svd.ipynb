{
 "cells": [
  {
   "cell_type": "markdown",
   "metadata": {
    "_cell_guid": "9b71017d-9100-4299-abad-9abf7a2d28bf",
    "_uuid": "44ecc0ab6d6d1d356bb2aab0d826f22d265597dd"
   },
   "source": [
    "# Data Preprocessing\n",
    "Here, Take the data which the user and item appear more than 10 times in order to reduce the calculation because we just want to take a small scale test.\n",
    "\n",
    "The data() function returns the total number of users and products, the user-item table and also the train&test data set."
   ]
  },
  {
   "cell_type": "code",
   "execution_count": 1,
   "metadata": {
    "_cell_guid": "1b8fddff-881c-416d-9315-56c3ea5e9c99",
    "_uuid": "eb544760a0a682c3125786277fca8714cb3e0dc5",
    "scrolled": true
   },
   "outputs": [
    {
     "name": "stdout",
     "output_type": "stream",
     "text": [
      "loading data...\n",
      "the table's shape is:\n",
      "(3666, 1102)\n"
     ]
    }
   ],
   "source": [
    "import pandas as pd\n",
    "import numpy as np\n",
    "from sklearn.preprocessing import MinMaxScaler\n",
    "from sklearn.model_selection import train_test_split\n",
    "# from main import method0\n",
    "\n",
    "def data_clean(df, feature, m):\n",
    "    count = df[feature].value_counts()\n",
    "    df = df[df[feature].isin(count[count > m].index)]\n",
    "    return df\n",
    "def data_clean_sum(df,features,m):\n",
    "    fil = df.ProductId.value_counts()\n",
    "    fil2 = df.UserId.value_counts()\n",
    "    df['#Proudcts'] = df.ProductId.apply(lambda x: fil[x])\n",
    "    df['#Users'] = df.UserId.apply(lambda x: fil2[x])\n",
    "    while (df.ProductId.value_counts(ascending=True)[0]) < m or  (df.UserId.value_counts(ascending=True)[0] < m):\n",
    "        df = data_clean(df,features[0],m)\n",
    "        df = data_clean(df,features[1],m)\n",
    "    return df\n",
    "\n",
    "# check if it is correct\n",
    "\n",
    "\n",
    "def data():\n",
    "    print('loading data...')\n",
    "    df = pd.read_csv('Reviews.csv')\n",
    "    df['datetime'] = pd.to_datetime(df.Time, unit='s')\n",
    "    raw_data = data_clean_sum(df, ['ProductId', 'UserId'], 10)\n",
    "    # find X,and y\n",
    "    raw_data['uid'] = pd.factorize(raw_data['UserId'])[0]\n",
    "    raw_data['pid'] = pd.factorize(raw_data['ProductId'])[0]\n",
    "    sc = MinMaxScaler()\n",
    "    raw_data['time']=sc.fit_transform(raw_data['Time'].values.reshape(-1,1))\n",
    "    raw_data['nuser']=sc.fit_transform(raw_data['#Users'].values.reshape(-1,1))\n",
    "    raw_data['nproduct']=sc.fit_transform(raw_data['#Proudcts'].values.reshape(-1,1))\n",
    "    # Sepreate the features into three groups\n",
    "    X1 = raw_data.loc[:,['uid','pid']]\n",
    "    X2 = raw_data.loc[:,['uid','pid','time']]\n",
    "    X3 = raw_data.loc[:,['uid','pid','time','nuser','nproduct']]\n",
    "    y = raw_data.Score\n",
    "    # train_test split\n",
    "    X1_train,X1_test,y_train,y_test = train_test_split(X1,y,test_size=0.3,random_state=2017)\n",
    "    X2_train,X2_test,y_train,y_test = train_test_split(X2,y,test_size=0.3,random_state=2017)\n",
    "    X3_train,X3_test,y_train,y_test = train_test_split(X3,y,test_size=0.3,random_state=2017)\n",
    "    train = np.array(X1_train.join(y_train))\n",
    "    test = np.array(X1_test.join(y_test))\n",
    "    # got the productId to pid index\n",
    "    pid2PID = raw_data.ProductId.unique()\n",
    "\n",
    "    data_mixed = X1.join(y)\n",
    "    total_p = data_mixed['pid'].unique().shape[0]\n",
    "    total_u = data_mixed['uid'].unique().shape[0]\n",
    "    # make the user-item table\n",
    "    table = np.zeros([total_u,total_p])\n",
    "    z = np.array(data_mixed)\n",
    "    for line in z:\n",
    "        u,p,s = line\n",
    "        if table[u][p] < s:\n",
    "            table[u][p] = s #if some one score a single thing several times\n",
    "    print('the table\\'s shape is:' )\n",
    "    print(table.shape)\n",
    "    return z, total_u,total_p,pid2PID,train,test,table,raw_data\n",
    "\n",
    "z, total_u,total_p,pid2PID,train,test,table,raw_data = data()\n",
    "\n",
    "\n"
   ]
  },
  {
   "cell_type": "markdown",
   "metadata": {
    "_cell_guid": "a910bbc4-40df-4b93-bcbf-67549537aa12",
    "_uuid": "1c3f5bf7c9952c8bfcdbd7f20038d5aa747f75d9"
   },
   "source": [
    "# Evaulation\n",
    "MSE and confusion matrix"
   ]
  },
  {
   "cell_type": "code",
   "execution_count": 12,
   "metadata": {
    "_cell_guid": "ef912f7e-1aa0-4fc2-9eac-e6606daba3f6",
    "_uuid": "cadcd87e9de292566251a35224215a10de322e3a"
   },
   "outputs": [],
   "source": [
    "from sklearn.metrics import mean_squared_error\n",
    "import matplotlib.pyplot as plt\n",
    "def caculate_mse(x):\n",
    "    MSE1=[]\n",
    "    MSE2=[]\n",
    "    for line in train:\n",
    "        u,p,s = line\n",
    "        MSE1.append(s)\n",
    "        MSE2.append(x[u,p])\n",
    "    MSE_in_sample = mean_squared_error(MSE1,MSE2)\n",
    "    MSE3=[]\n",
    "    MSE4 = []\n",
    "    for line in test:\n",
    "        u,p,s = line\n",
    "        MSE3.append(s)\n",
    "        MSE4.append(x[u,p])\n",
    "    MSE_out_sample = mean_squared_error(MSE3,MSE4)\n",
    "    print('the in sample MSE = {} \\nthe out sample MSE = {}'.format(MSE_in_sample,MSE_out_sample))\n",
    "    return MSE_in_sample,MSE_out_sample\n",
    "\n",
    "\n",
    "def draw_mse(method,maxIter):\n",
    "    import time\n",
    "    c = []\n",
    "    d = []\n",
    "    timetime = []\n",
    "    for i in [1,2,5,7,10,20,50,70,100]:\n",
    "        tic = time.time()\n",
    "        data = method(factors=i,maxIter=maxIter)\n",
    "        a,b = caculate_mse(data)\n",
    "        c.append(a)\n",
    "        d.append(b)\n",
    "        toc = time.time()\n",
    "        timetime.append(toc-tic)\n",
    "    aa = [1, 2, 5, 7, 10, 20, 50, 70, 100]\n",
    "    for i in range(len(timetime)):\n",
    "\n",
    "        print('latent factors = {}, time = {}'.format(aa[i],timetime[i]))\n",
    "    plt.figure()\n",
    "    plt.plot(aa,c,label = 'in_sample_MSE')\n",
    "    plt.plot(aa,d,label = 'out_sample_MSE')\n",
    "    plt.xticks([1,2,5,7,10,20,50,70,100])\n",
    "    plt.legend()\n",
    "    plt.show()\n",
    "    return 0\n",
    "\n",
    "\n",
    "import itertools\n",
    "import matplotlib.pyplot as plt\n",
    "from sklearn.metrics import confusion_matrix\n",
    "def plot_confusion_matrix(cm, classes,\n",
    "                          normalize=False,\n",
    "                          title='Confusion matrix',\n",
    "                          cmap=plt.cm.Blues):\n",
    "    \"\"\"\n",
    "    This function prints and plots the confusion matrix.\n",
    "    Normalization can be applied by setting `normalize=True`.\n",
    "    \"\"\"\n",
    "    if normalize:\n",
    "        cm = cm.astype('float') / cm.sum(axis=1)[:, np.newaxis]\n",
    "        print(\"Normalized confusion matrix\")\n",
    "    else:\n",
    "        print('Confusion matrix, without normalization')\n",
    "\n",
    "    print(cm)\n",
    "    plt.imshow(cm, interpolation='nearest', cmap=cmap)\n",
    "    plt.title(title)\n",
    "    plt.colorbar()\n",
    "    tick_marks = np.arange(len(classes))\n",
    "    plt.xticks(tick_marks, classes, rotation=45)\n",
    "    plt.yticks(tick_marks, classes)\n",
    "\n",
    "    fmt = '.2f' if normalize else 'd'\n",
    "    thresh = cm.max() / 2.\n",
    "    for i, j in itertools.product(range(cm.shape[0]), range(cm.shape[1])):\n",
    "        plt.text(j, i, format(cm[i, j], fmt),\n",
    "                 horizontalalignment=\"center\",\n",
    "                 color=\"white\" if cm[i, j] > thresh else \"black\")\n",
    "\n",
    "    plt.tight_layout()\n",
    "    plt.ylabel('True label')\n",
    "    plt.xlabel('Predicted label')\n",
    "\n",
    "\n",
    "\n",
    "def drawcm(y_pred,y_test =test ,title=''):\n",
    "    print('caculating cm..')\n",
    "    y1=[]\n",
    "    y2=[]\n",
    "    for line in y_test:\n",
    "        u,p,s = line\n",
    "        y1.append(s)\n",
    "        y2.append(y_pred[u,p])\n",
    "    temp1 = []\n",
    "    temp2 = []\n",
    "    for i in range(len(y1)):\n",
    "        if np.array(y1)[i] >= 4:\n",
    "            temp1.append(1)\n",
    "        elif np.array(y1)[i] <= 2:\n",
    "            temp1.append(0)\n",
    "        else:\n",
    "            temp1.append(0)\n",
    "        if y2[i] >= 4:\n",
    "            temp2.append(1)\n",
    "        elif y2[i] <= 2:\n",
    "            temp2.append(0)\n",
    "        else:\n",
    "            temp2.append(0)\n",
    "    cm = confusion_matrix(temp1,temp2)\n",
    "    plt.figure()\n",
    "    plot_confusion_matrix(cm, classes=['not','recommand'], normalize=True,\n",
    "                          title=title)\n",
    "    plt.show()\n"
   ]
  },
  {
   "cell_type": "markdown",
   "metadata": {
    "_cell_guid": "c7cb3b21-3c9d-4d12-947d-da97ca20876a",
    "_uuid": "f7c4ad017a471df92c32190ad4b9c91b9112ee88"
   },
   "source": [
    "# Randon Forest Regressor\n",
    "At the very first, we try to use rfr to build a simple model. The idea is very easy, just use the algorithm find the latent score of one pair of user and item. We can see the MSE is not very high, and the confusion matrix is acceptable.\n",
    "![Imgur](https://i.imgur.com/T4LvkPh.jpg)\n",
    "This part, the X are uid, pid,time, number of item and user. y is the score.\n",
    "\n",
    "But the drawback is very obvious: the test MSE is 0.34 and and train MSE is 0.07 -- overfitting is quite a deal."
   ]
  },
  {
   "cell_type": "code",
   "execution_count": 3,
   "metadata": {
    "_cell_guid": "0a2e8cdd-6883-4867-9b1e-9e117a7039bc",
    "_uuid": "9cc9ec2dfdaa2ad58ebafb1a557ce6bd83189368",
    "scrolled": false
   },
   "outputs": [
    {
     "name": "stdout",
     "output_type": "stream",
     "text": [
      "train MSE is (0.05264808182875632, 0.31169309502025305), test MSE is 0.31169309502025305\n",
      "accrucy of recommandtion:\n",
      "0.8557662418402238\n",
      "accrucy of not recommandtion:\n",
      "0.9630608227126722\n",
      "Normalized confusion matrix\n",
      "[[0.91 0.09]\n",
      " [0.16 0.84]]\n"
     ]
    },
    {
     "data": {
      "image/png": "[encoded data removed]",
      "text/plain": [
       "<Figure size 432x288 with 2 Axes>"
      ]
     },
     "metadata": {
      "needs_background": "light"
     },
     "output_type": "display_data"
    },
    {
     "data": {
      "text/plain": [
       "RandomForestRegressor()"
      ]
     },
     "execution_count": 3,
     "metadata": {},
     "output_type": "execute_result"
    }
   ],
   "source": [
    "from sklearn.metrics import *\n",
    "from sklearn.preprocessing import *\n",
    "from sklearn.ensemble import *\n",
    "def rf():\n",
    "    # find X,and y\n",
    "    raw_data['uid'] = pd.factorize(raw_data['UserId'])[0]\n",
    "    raw_data['pid'] = pd.factorize(raw_data['ProductId'])[0]\n",
    "    from sklearn.preprocessing import MinMaxScaler\n",
    "    sc = MinMaxScaler()\n",
    "    raw_data['time']=sc.fit_transform(raw_data['Time'].values.reshape(-1,1))\n",
    "    raw_data['nuser']=sc.fit_transform(raw_data['#Users'].values.reshape(-1,1))\n",
    "    raw_data['nproduct']=sc.fit_transform(raw_data['#Proudcts'].values.reshape(-1,1))\n",
    "\n",
    "    X1 = raw_data.loc[:,['uid','pid']]\n",
    "    X2 = raw_data.loc[:,['uid','pid','time']]\n",
    "    X3 = raw_data.loc[:,['uid','pid','time','nuser','nproduct']]\n",
    "    y = raw_data.Score\n",
    "\n",
    "    from sklearn.model_selection import train_test_split\n",
    "    X1_train,X1_test,y_train,y_test = train_test_split(X1,y,test_size=0.3,random_state=2017)\n",
    "    X2_train,X2_test,y_train,y_test = train_test_split(X2,y,test_size=0.3,random_state=2017)\n",
    "    X3_train,X3_test,y_train,y_test = train_test_split(X3,y,test_size=0.3,random_state=2017)\n",
    "    a=RandomForestRegressor()\n",
    "    a.fit(X3_train,y_train)\n",
    "    y3 = a.predict(X3_test)\n",
    "    sc = MinMaxScaler(feature_range=(1,5))\n",
    "    c = mean_squared_error(y_train,a.predict(X3_train)), mean_squared_error(y_test,sc.fit_transform(y3.reshape(-1,1)))\n",
    "    b = mean_squared_error(y_test,y3)\n",
    "    print('train MSE is {}, test MSE is {}'.format(c,b))\n",
    "\n",
    "    c3 = y3>=4\n",
    "    t = y_test>=4\n",
    "    print('accrucy of recommandtion:')\n",
    "    print(accuracy_score(t,c3))\n",
    "    c31 = y3<=1\n",
    "    t1 = y_test<=1\n",
    "    print('accrucy of not recommandtion:')\n",
    "    print(accuracy_score(t1,c31))\n",
    "    y_pred3 = []\n",
    "    y_test3 = []\n",
    "    for i in range(y3.shape[0]):\n",
    "        if y3[i]>=4:\n",
    "            y_pred3.append(1)\n",
    "        elif y3[i]<4:\n",
    "            y_pred3.append(0)\n",
    "        # else:\n",
    "            # y_pred3.append(1)\n",
    "\n",
    "    for j in range(y3.shape[0]):\n",
    "        if np.array(y_test)[j]>=4:\n",
    "            y_test3.append(1)\n",
    "        elif np.array(y_test)[j]<4:\n",
    "            y_test3.append(0)\n",
    "        # else:\n",
    "            # y_test3.append(1)\n",
    "    import itertools\n",
    "    import matplotlib.pyplot as plt\n",
    "    def plot_confusion_matrix(cm, classes,\n",
    "                              normalize=False,\n",
    "                              title='Confusion matrix',\n",
    "                              cmap=plt.cm.Blues):\n",
    "        \"\"\"\n",
    "        This function prints and plots the confusion matrix.\n",
    "        Normalization can be applied by setting `normalize=True`.\n",
    "        \"\"\"\n",
    "        if normalize:\n",
    "            cm = cm.astype('float') / cm.sum(axis=1)[:, np.newaxis]\n",
    "            print(\"Normalized confusion matrix\")\n",
    "        else:\n",
    "            print('Confusion matrix, without normalization')\n",
    "\n",
    "        print(cm)\n",
    "        plt.imshow(cm, interpolation='nearest', cmap=cmap)\n",
    "        plt.title(title)\n",
    "        plt.colorbar()\n",
    "        tick_marks = np.arange(len(classes))\n",
    "        plt.xticks(tick_marks, classes, rotation=45)\n",
    "        plt.yticks(tick_marks, classes)\n",
    "\n",
    "        fmt = '.2f' if normalize else 'd'\n",
    "        thresh = cm.max() / 2.\n",
    "        for i, j in itertools.product(range(cm.shape[0]), range(cm.shape[1])):\n",
    "            plt.text(j, i, format(cm[i, j], fmt),\n",
    "                     horizontalalignment=\"center\",\n",
    "                     color=\"white\" if cm[i, j] > thresh else \"black\")\n",
    "\n",
    "        plt.tight_layout()\n",
    "        plt.ylabel('True label')\n",
    "        plt.xlabel('Predicted label')\n",
    "    class_names = ['not recommand','recommand']\n",
    "    cnf_matrix = confusion_matrix(y_test3,y_pred3)\n",
    "    np.set_printoptions(precision=2)\n",
    "    plt.figure()\n",
    "    plot_confusion_matrix(cnf_matrix, classes=class_names, normalize=True,\n",
    "                          title='rf')\n",
    "\n",
    "\n",
    "    plt.show()\n",
    "    return a\n",
    "rf()"
   ]
  },
  {
   "cell_type": "markdown",
   "metadata": {
    "_cell_guid": "95c3224d-d65f-4f2a-b57e-c1296bc64b2b",
    "_uuid": "e91f96663dfbfff65b73efd2ea0854c31e5eff80"
   },
   "source": [
    "# Recommendation function"
   ]
  },
  {
   "cell_type": "code",
   "execution_count": 13,
   "metadata": {
    "_cell_guid": "e2269c10-78be-44ba-8a5f-1553a2d09d61",
    "_uuid": "07120479c80eaca32e84be3de3255bdea7a63558"
   },
   "outputs": [],
   "source": [
    "def rec(result, uid,n,rawId= False):\n",
    "    if uid in range(total_u):\n",
    "\t\t# we take the first n people's highest score product\n",
    "        top_N = np.argpartition(result[uid],-n)[-n:]\n",
    "        print('the top{} recommanded products for user {} is {}'.format(n,uid,top_N))\n",
    "\t\t# if rawID is on, the out put contains the real product id\n",
    "        if rawId == True:\n",
    "            print('the real ID is {}'.format(pid2PID[top_N]))\n",
    "    else:\n",
    "        print('this user has not bought anything, plz use other methods')\n",
    "    return top_N"
   ]
  },
  {
   "cell_type": "markdown",
   "metadata": {
    "_cell_guid": "8d0056a8-1432-4b2b-a6be-8e6e2245b0d7",
    "_uuid": "4d2d69fb4d37bb66c424cf3c0dbe9c951d63a5d3"
   },
   "source": [
    "# Distance Based Model\n",
    "Here we use the cosine-distance to give the similarity between vectors. Cosine similarity is a measure of similarity between two non-zero vectors of an inner product space that measures the cosine of the angle between them. The similarity ranges from -1 to 1 where -1 means exactly opposite, 1 means exactly the same and in-between values indicating intermediate similarity or dissimilarity.\n",
    "![Imgur](https://i.imgur.com/NgxyUjt.png)\n",
    "Since the MSE of traditional Collaborative Filtering model is quite high, we decided to use quasi-SVD approach instead. In this method, the output matrix is the dot product of three matrix. Here U is user similarity matrix and P is product similarity.\n",
    "![Imgur](https://i.imgur.com/AmSozCI.png)\n"
   ]
  },
  {
   "cell_type": "code",
   "execution_count": 14,
   "metadata": {
    "_cell_guid": "3af722f2-9895-4ba7-92e0-24f9ece780e1",
    "_uuid": "6c6229e323ca550aaaba982710205837d2e4162b"
   },
   "outputs": [
    {
     "name": "stdout",
     "output_type": "stream",
     "text": [
      "the in sample MSE = 2.181532608112235 \n",
      "the out sample MSE = 2.2582779695854396\n",
      "caculating cm..\n",
      "Normalized confusion matrix\n",
      "[[0.42 0.58]\n",
      " [0.34 0.66]]\n"
     ]
    },
    {
     "data": {
      "image/png": "[encoded data removed]",
      "text/plain": [
       "<Figure size 432x288 with 2 Axes>"
      ]
     },
     "metadata": {
      "needs_background": "light"
     },
     "output_type": "display_data"
    },
    {
     "name": "stdout",
     "output_type": "stream",
     "text": [
      "the top10 recommanded products for user 10 is [ 644  151  455   52 1072 1051  127 1067  106    0]\n",
      "the real ID is ['B0058AMYTC' 'B00472I5A4' 'B0058AMY10' 'B0058AMY74' 'B001SAXPEO'\n",
      " 'B006WYSFZK' 'B000G6MBUA' 'B004728MI4' 'B0012XBD7I' 'B000G6RYNE']\n"
     ]
    },
    {
     "data": {
      "text/plain": [
       "array([ 644,  151,  455,   52, 1072, 1051,  127, 1067,  106,    0])"
      ]
     },
     "execution_count": 14,
     "metadata": {},
     "output_type": "execute_result"
    }
   ],
   "source": [
    "\n",
    "from sklearn.metrics.pairwise import pairwise_distances\n",
    "def cf(table = table,distance = 'cosine'):\n",
    "    user_similarity = pairwise_distances(table, metric=distance)\n",
    "    item_similarity = pairwise_distances(table.T, metric=distance)\n",
    "    sc = MinMaxScaler(feature_range=(1,5))\n",
    "    a = sc.fit_transform(np.dot(user_similarity,table).dot(item_similarity))\n",
    "    return a\n",
    "result =cf()\n",
    "caculate_mse(result)\n",
    "drawcm(result,title='MF')\n",
    "rec(result, 10,10,rawId= True)"
   ]
  },
  {
   "cell_type": "markdown",
   "metadata": {
    "_cell_guid": "717ea454-a725-4514-850d-7fe3f2a9883a",
    "_uuid": "6eac5496a8c61b33e439f4385467c56bf272d130"
   },
   "source": [
    "The advantage is that this method is quite interpretable. However, the drawbacks are also apparent: this algorithm is naive with a deficient performance. For a large data set, this algorithm need m2+n2 times to calculate the similarity matrix.\n"
   ]
  },
  {
   "cell_type": "markdown",
   "metadata": {
    "_cell_guid": "174051a1-b912-41df-b385-8ab8ee675d99",
    "_uuid": "4927b983bc31b3fd4cc488d56367661741ec1f9c"
   },
   "source": [
    "# SVD \n",
    "In our recommendation system, we have such a matrix which has many scores from the users to the items. We hope to predict the targeted users’ score to other unevaluated items and then recommend the items with the highest five scores. \n",
    "The advantage of SVD is that: users’ score matrix is a sparse matrix, so we can map the original data into a Low-dimensional space and then calculate the similarity of different items. This can help us reduce calculation complexity.\n",
    "![Imgur](https://i.imgur.com/EYTpKTh.png)\n",
    "\n"
   ]
  },
  {
   "cell_type": "code",
   "execution_count": 15,
   "metadata": {
    "_cell_guid": "d3b65b9d-5964-4815-9be7-666560050584",
    "_uuid": "454be8acd454fddbe2681f2117db249fa5ce91d8"
   },
   "outputs": [
    {
     "name": "stderr",
     "output_type": "stream",
     "text": [
      "/Users/phanindrasai/opt/anaconda3/lib/python3.9/site-packages/sklearn/utils/validation.py:593: FutureWarning: np.matrix usage is deprecated in 1.0 and will raise a TypeError in 1.2. Please convert to a numpy array with np.asarray. For more information see: https://numpy.org/doc/stable/reference/generated/numpy.matrix.html\n",
      "  warnings.warn(\n",
      "/Users/phanindrasai/opt/anaconda3/lib/python3.9/site-packages/sklearn/utils/validation.py:593: FutureWarning: np.matrix usage is deprecated in 1.0 and will raise a TypeError in 1.2. Please convert to a numpy array with np.asarray. For more information see: https://numpy.org/doc/stable/reference/generated/numpy.matrix.html\n",
      "  warnings.warn(\n"
     ]
    },
    {
     "name": "stdout",
     "output_type": "stream",
     "text": [
      "the in sample MSE = 0.3982335596954266 \n",
      "the out sample MSE = 0.39813597209585755\n",
      "caculating cm..\n",
      "Normalized confusion matrix\n",
      "[[0.96 0.04]\n",
      " [0.15 0.85]]\n"
     ]
    },
    {
     "data": {
      "image/png": "[encoded data removed]",
      "text/plain": [
       "<Figure size 432x288 with 2 Axes>"
      ]
     },
     "metadata": {
      "needs_background": "light"
     },
     "output_type": "display_data"
    },
    {
     "name": "stdout",
     "output_type": "stream",
     "text": [
      "the top10 recommanded products for user 10 is [ 644 1051  151  918   52  799  455  216 1067  106]\n",
      "the real ID is ['B0058AMYTC' 'B006WYSFZK' 'B00472I5A4' 'B000G6O2QG' 'B0058AMY74'\n",
      " 'B0058AMY5G' 'B0058AMY10' 'B000LKXBL4' 'B004728MI4' 'B0012XBD7I']\n"
     ]
    },
    {
     "data": {
      "text/plain": [
       "array([ 644, 1051,  151,  918,   52,  799,  455,  216, 1067,  106])"
      ]
     },
     "execution_count": 15,
     "metadata": {},
     "output_type": "execute_result"
    }
   ],
   "source": [
    "from numpy import *\n",
    "from scipy.sparse.linalg import svds\n",
    "from numpy import linalg as la\n",
    "from sklearn.preprocessing import MinMaxScaler\n",
    "def svdrec(table = table, factors= 150):\n",
    "    UI = matrix(table)\n",
    "    # ui_df = pd.DataFrame(UI,index=table.index, columns=table.columns)\n",
    "    user_ratings_mean=mean(UI,axis=0)\n",
    "    user_ratings_mean=user_ratings_mean.reshape(1,-1)\n",
    "    UI_demeaned=UI-user_ratings_mean\n",
    "    U,sigma,Vt=svds(UI_demeaned,factors)\n",
    "    sigma=diag(sigma)\n",
    "    pred_mat=dot(dot(U,sigma),Vt) + user_ratings_mean\n",
    "    sc=MinMaxScaler(feature_range = (1,5))\n",
    "    pred_mat = sc.fit_transform(pred_mat)\n",
    "    # prediction_df=pd.DataFrame(pred_mat,index=table.index,columns=table.columns)\n",
    "    return pred_mat\n",
    "def rec(result, uid,n,rawId= False):\n",
    "    if uid in range(total_u):\n",
    "\t\t# we take the first n people's highest score product\n",
    "        top_N = np.argpartition(result[uid],-n)[-n:]\n",
    "        print('the top{} recommanded products for user {} is {}'.format(n,uid,top_N))\n",
    "\t\t# if rawID is on, the out put contains the real product id\n",
    "        if rawId == True:\n",
    "            print('the real ID is {}'.format(pid2PID[top_N]))\n",
    "    else:\n",
    "        print('this user has not bought anything, plz use other methods')\n",
    "    return top_N\n",
    "result1 =svdrec(factors=150)\n",
    "caculate_mse(result1)\n",
    "drawcm(result1,title='SVD')\n",
    "rec(result1, 10,10,rawId= True)"
   ]
  },
  {
   "cell_type": "markdown",
   "metadata": {
    "_cell_guid": "eaa76995-e46a-4796-b8ec-e4889da09081",
    "_uuid": "5b64c4d268a6ec246e66569640edc0618a2c329b"
   },
   "source": [
    "Not so good, not so bad."
   ]
  },
  {
   "cell_type": "markdown",
   "metadata": {
    "_cell_guid": "e59a6722-8637-4b17-8698-d27852469944",
    "_uuid": "5768d4b767dc7de95bcc6febb5e60bb8531cde00"
   },
   "source": [
    "# Matrix Factorization \n",
    "Latent factor models are an alternative approach that tries to explain the ratings by characterizing both items and users on, say, 20 to 100 factors inferred from the ratings patterns. For products, the discovered factors might measure obvious dimensions such as candy vs drinks, or adult food vs children’s; For users, each factor measures how much the user likes the product that score high on the corresponding movie factor.\n",
    "Using latent factor model, we transform the way to calculate the similarity of users and products. The features become more stable and condense. \n",
    "\n",
    "we first create two new metrics, user-latent_factor and product-latent_factor. The size are q*f and p*f, p, q are the total number of users and products, f is the number of latent factors. So, every element in the target matrix can be calculate as:  And the target matrix is shown as  . Next, we need to create the objective function based on least-square method to minimize the loss: \n",
    "![Imgur](https://i.imgur.com/GlO6Pbo.png)\n"
   ]
  },
  {
   "cell_type": "markdown",
   "metadata": {
    "_cell_guid": "629a766d-1111-4f7e-8c4d-b955ef3d9683",
    "_uuid": "99bcbb66288187f41f2a0abd3574394671336ab0"
   },
   "source": [
    "The system adjusts the model by fitting the previously observed ratings. However, the goal is to generalize those previous ratings in a way that predicts the unknown ratings. Thus, the system should avoid overfitting the observed data by regularizing the learned parameters by adding L2 term. The constant λ controls the extent of regularization and is usually determined by cross-validation.\n",
    "Next, we use stochastic gradient descent to optimize the objective function. The processing is:\n",
    "![Imgur](https://i.imgur.com/46ftTCS.png)\n",
    "Where gamma is the stochastic learning rate and e is the error term. In the iteration, when the change in loss is larger than 0, the learning rate increases by 5%; if delta-loss is smaller than 0, it means the new loss is becoming larger. The learning rate decreases by 50% so that the loss can converge."
   ]
  },
  {
   "cell_type": "code",
   "execution_count": 16,
   "metadata": {
    "_cell_guid": "cd6723f0-2e2a-45d6-9bb9-30d1016988c5",
    "_uuid": "3caf1177f561ac703ac5e484b2087c9ba16110a5",
    "scrolled": false
   },
   "outputs": [
    {
     "name": "stdout",
     "output_type": "stream",
     "text": [
      "iter = 1, loss = 3298.115680604396, delta_loss = -3298.115680604396, LR = 0.02\n",
      "iter = 2, loss = 957.4453965012269, delta_loss = 2340.6702841031693, LR = 0.01\n",
      "iter = 3, loss = 622.8576169875338, delta_loss = 334.58777951369314, LR = 0.0105\n",
      "iter = 4, loss = 575.5064453295497, delta_loss = 47.35117165798408, LR = 0.011025000000000002\n",
      "iter = 5, loss = 542.3053775753292, delta_loss = 33.2010677542205, LR = 0.011576250000000003\n",
      "iter = 6, loss = 508.48008236456883, delta_loss = 33.82529521076037, LR = 0.012155062500000004\n",
      "iter = 7, loss = 469.48314638880663, delta_loss = 38.9969359757622, LR = 0.012762815625000005\n",
      "iter = 8, loss = 425.33091886991593, delta_loss = 44.1522275188907, LR = 0.013400956406250006\n",
      "iter = 9, loss = 379.1347491994398, delta_loss = 46.19616967047614, LR = 0.014071004226562506\n",
      "iter = 10, loss = 334.31130436151454, delta_loss = 44.82344483792525, LR = 0.014774554437890632\n",
      "iter = 11, loss = 292.80537602033417, delta_loss = 41.50592834118038, LR = 0.015513282159785164\n",
      "iter = 12, loss = 255.37322334970096, delta_loss = 37.4321526706332, LR = 0.016288946267774423\n",
      "iter = 13, loss = 222.29826242983506, delta_loss = 33.0749609198659, LR = 0.017103393581163143\n",
      "iter = 14, loss = 193.66170595507174, delta_loss = 28.636556474763324, LR = 0.0179585632602213\n",
      "iter = 15, loss = 169.34891872000784, delta_loss = 24.312787235063894, LR = 0.018856491423232365\n",
      "iter = 16, loss = 149.05006054862426, delta_loss = 20.298858171383586, LR = 0.019799315994393985\n",
      "iter = 17, loss = 132.32955939237928, delta_loss = 16.72050115624498, LR = 0.020789281794113684\n",
      "iter = 18, loss = 118.71537270746221, delta_loss = 13.614186684917073, LR = 0.02182874588381937\n",
      "iter = 19, loss = 107.7530952450732, delta_loss = 10.962277462389011, LR = 0.02292018317801034\n",
      "iter = 20, loss = 99.02533191643508, delta_loss = 8.727763328638119, LR = 0.024066192336910857\n",
      "iter = 21, loss = 92.1593234237896, delta_loss = 6.866008492645477, LR = 0.0252695019537564\n",
      "iter = 22, loss = 86.83243490103332, delta_loss = 5.326888522756278, LR = 0.02653297705144422\n",
      "iter = 23, loss = 82.77435798722362, delta_loss = 4.0580769138097, LR = 0.02785962590401643\n",
      "iter = 24, loss = 79.76501451915226, delta_loss = 3.009343468071364, LR = 0.029252607199217254\n",
      "iter = 25, loss = 77.62944795072917, delta_loss = 2.135566568423087, LR = 0.030715237559178116\n",
      "iter = 26, loss = 76.2316347527104, delta_loss = 1.397813198018767, LR = 0.03225099943713702\n",
      "iter = 27, loss = 75.46872495263318, delta_loss = 0.7629098000772245, LR = 0.03386354940899387\n",
      "iter = 28, loss = 75.26656038716386, delta_loss = 0.20216456546931738, LR = 0.03555672687944357\n",
      "iter = 29, loss = 75.576877650742, delta_loss = -0.31031726357814193, LR = 0.03733456322341575\n",
      "iter = 30, loss = 61.173282018806354, delta_loss = 14.403595631935652, LR = 0.018667281611707876\n",
      "iter = 31, loss = 59.67722100303271, delta_loss = 1.4960610157736411, LR = 0.01960064569229327\n",
      "iter = 32, loss = 59.667173818366145, delta_loss = 0.010047184666568398, LR = 0.020580677976907935\n",
      "iter = 33, loss = 59.90291987498408, delta_loss = -0.23574605661793413, LR = 0.02160971187575333\n",
      "iter = 34, loss = 53.067043062924135, delta_loss = 6.835876812059944, LR = 0.010804855937876666\n",
      "iter = 35, loss = 52.56896060432815, delta_loss = 0.498082458595988, LR = 0.0113450987347705\n",
      "iter = 36, loss = 52.613931725472575, delta_loss = -0.04497112114442814, LR = 0.011912353671509024\n",
      "iter = 37, loss = 49.170574933126495, delta_loss = 3.44335679234608, LR = 0.005956176835754512\n",
      "iter = 38, loss = 48.98900294885965, delta_loss = 0.18157198426684573, LR = 0.006253985677542238\n",
      "iter = 39, loss = 49.007868067534936, delta_loss = -0.018865118675286396, LR = 0.00656668496141935\n",
      "iter = 40, loss = 47.16208273503284, delta_loss = 1.8457853325020963, LR = 0.003283342480709675\n",
      "iter = 41, loss = 47.106310882065536, delta_loss = 0.055771852967303914, LR = 0.003447509604745159\n",
      "iter = 42, loss = 47.11996387523547, delta_loss = -0.013652993169934291, LR = 0.003619885084982417\n",
      "iter = 43, loss = 46.102963991020815, delta_loss = 1.0169998842146555, LR = 0.0018099425424912086\n",
      "iter = 44, loss = 46.09540155379404, delta_loss = 0.007562437226773966, LR = 0.0019004396696157692\n",
      "iter = 45, loss = 46.106444030951145, delta_loss = -0.011042477157104713, LR = 0.0019954616530965578\n",
      "iter = 46, loss = 45.54339712005948, delta_loss = 0.5630469108916643, LR = 0.0009977308265482789\n",
      "iter = 47, loss = 45.54734711570103, delta_loss = -0.003949995641548298, LR = 0.0010476173678756928\n",
      "iter = 48, loss = 45.24892018552516, delta_loss = 0.2984269301758715, LR = 0.0005238086839378464\n",
      "iter = 49, loss = 45.25221727962547, delta_loss = -0.0032970941003114262, LR = 0.0005499991181347388\n",
      "iter = 50, loss = 45.0952305211937, delta_loss = 0.15698675843177057, LR = 0.0002749995590673694\n",
      "iter = 51, loss = 45.09733518920866, delta_loss = -0.002104668014958122, LR = 0.00028874953702073787\n",
      "iter = 52, loss = 45.0148778517574, delta_loss = 0.0824573374512596, LR = 0.00014437476851036893\n",
      "iter = 53, loss = 45.0160855024102, delta_loss = -0.0012076506528018172, LR = 0.0001515935069358874\n",
      "iter = 54, loss = 44.972790551525286, delta_loss = 0.04329495088491342, LR = 7.57967534679437e-05\n",
      "iter = 55, loss = 44.97345259917667, delta_loss = -0.0006620476513816698, LR = 7.958659114134088e-05\n",
      "the diff in loss is -0.0006620476513816698, so the GD stops\n"
     ]
    },
    {
     "data": {
      "image/png": "[encoded data removed]",
      "text/plain": [
       "<Figure size 432x288 with 1 Axes>"
      ]
     },
     "metadata": {
      "needs_background": "light"
     },
     "output_type": "display_data"
    },
    {
     "name": "stdout",
     "output_type": "stream",
     "text": [
      "the in sample MSE = 0.035382086526041856 \n",
      "the out sample MSE = 0.03382716262595594\n",
      "caculating cm..\n",
      "Normalized confusion matrix\n",
      "[[0.99 0.01]\n",
      " [0.14 0.86]]\n"
     ]
    },
    {
     "data": {
      "image/png": "[encoded data removed]",
      "text/plain": [
       "<Figure size 432x288 with 2 Axes>"
      ]
     },
     "metadata": {
      "needs_background": "light"
     },
     "output_type": "display_data"
    },
    {
     "name": "stdout",
     "output_type": "stream",
     "text": [
      "the top10 recommanded products for user 10 is [ 256  996  243  729  155  201  182  595   80 1093]\n",
      "the real ID is ['B004HOQE64' 'B004HOLD60' 'B001KVPBS4' 'B000ZSZ5S4' 'B001EQ4RBM'\n",
      " 'B001EQ4QJK' 'B004HOLD4W' 'B004HOOZEW' 'B001EQ4P2I' 'B004HOSGWE']\n"
     ]
    },
    {
     "data": {
      "text/plain": [
       "array([ 256,  996,  243,  729,  155,  201,  182,  595,   80, 1093])"
      ]
     },
     "execution_count": 16,
     "metadata": {},
     "output_type": "execute_result"
    }
   ],
   "source": [
    "def MF1(data=z, factors=30, maxIter=100, LRate=0.02, GD_end=1e-3, plot=False):\n",
    "    # initial the latent matrix for user and item\n",
    "    P = np.random.rand(total_u, factors) / 3\n",
    "    Q = np.random.rand(total_p, factors) / 3\n",
    "    # initial y as the history of loss\n",
    "    y = []\n",
    "    # initial the iteration and last loss\n",
    "    iteration = 0\n",
    "    last_loss = 0\n",
    "    while iteration < maxIter:\n",
    "        loss = 0\n",
    "        for i in range(data.shape[0]):\n",
    "            # get the uid,pid and the score from every line\n",
    "            u, p, s = data[i]\n",
    "            # calculate the error\n",
    "            error = s - np.dot(P[u], Q[p])\n",
    "            # calculate the loss function\n",
    "            # avoid loss become to large, scale to 1/50\n",
    "            loss += error ** 2 / 50\n",
    "            # update the parameter according to the gradient descent\n",
    "            pp = P[u]\n",
    "            qq = Q[p]\n",
    "            P[u] += LRate * error * qq\n",
    "            Q[p] += LRate * error * pp\n",
    "        iteration += 1\n",
    "        y.append(loss)\n",
    "        delta_loss = last_loss - loss\n",
    "        print('iter = {}, loss = {}, delta_loss = {}, LR = {}'.format(iteration, loss, delta_loss, LRate))\n",
    "        # update the learn rate to make sure it will converge\n",
    "        if abs(last_loss) > abs(loss):\n",
    "            LRate *= 1.05\n",
    "        else:\n",
    "            LRate *= 0.5\n",
    "        # When converge, stop the gradient descend\n",
    "        if abs(delta_loss) < abs(GD_end):\n",
    "            print('the diff in loss is {}, so the GD stops'.format(delta_loss))\n",
    "            break\n",
    "        last_loss = loss\n",
    "    if plot:\n",
    "        plt.plot(y)\n",
    "        plt.show()\n",
    "    return P.dot(Q.T)\n",
    "\n",
    "result =MF1( factors=30, maxIter=100, LRate=0.02, GD_end=1e-3, plot=1)\n",
    "caculate_mse(result)\n",
    "drawcm(result,title='MF')\n",
    "def rec(result, uid,n,rawId= False):\n",
    "    if uid in range(total_u):\n",
    "\t\t# we take the first n people's highest score product\n",
    "        top_N = np.argpartition(result[uid],-n)[-n:]\n",
    "        print('the top{} recommanded products for user {} is {}'.format(n,uid,top_N))\n",
    "\t\t# if rawID is on, the out put contains the real product id\n",
    "        if rawId == True:\n",
    "            print('the real ID is {}'.format(pid2PID[top_N]))\n",
    "    else:\n",
    "        print('this user has not bought anything, plz use other methods')\n",
    "    return top_N\n",
    "rec(result, 10,10,rawId= True)"
   ]
  },
  {
   "cell_type": "markdown",
   "metadata": {
    "_cell_guid": "0da0f4ad-40d4-4e73-897b-3842e43e60ca",
    "_uuid": "df279f5c4f5959477c653dea94790c5aa6055da2"
   },
   "source": [
    "The MF gives a very good prediction: the train set MSE is 0.03542 and the test set MSE is 0.03385. While both MSEs are equally small, thus no overfitting problem occurs.\n",
    "\n",
    "In addition, as image shows that the number of latent factors significantly affects the results.\n",
    "![Imgur](https://i.imgur.com/FxdJfsB.png)\n",
    "As the number of latent factors increase, the MSE decreases. And MSE converges around n=20.  "
   ]
  },
  {
   "cell_type": "markdown",
   "metadata": {
    "_cell_guid": "4dc80e7e-bffd-4946-8cd5-f8e937054e8e",
    "_uuid": "fe680ce1bdb23a028917047f317c3e84670c5810"
   },
   "source": [
    "# Probabilistic Matrix Factorization \n",
    "![Imgur](https://i.imgur.com/AW7ViEl.png)\n",
    "PMF is similar to MF. It is nothing more than a MF assuming the distribution of user and production are Gaussian. That is:\n",
    "![Imgur](https://i.imgur.com/2Qs55Zx.png)\n"
   ]
  },
  {
   "cell_type": "markdown",
   "metadata": {
    "_cell_guid": "e8d2aecc-cabc-4d15-ac31-3b881319dc26",
    "_uuid": "83687e34c8fc2f393d1a3c54966a78be5b2b4622"
   },
   "source": [
    "And the joint distribution of user and product is the distribution of the scores.\n",
    "![Imgur](https://i.imgur.com/83cw1vR.png)"
   ]
  },
  {
   "cell_type": "markdown",
   "metadata": {
    "_cell_guid": "64858aec-0294-4e52-82d6-c446f99b50b0",
    "_uuid": "109e39787ee6fadf23260d02a630b51fa4978016"
   },
   "source": [
    "The problem comes to maximum the probability of U, V based on R and variance. This transformation is based on Bayesian formula. Rewrite the function above and applying log to both sides:\n",
    "![Imgur](https://i.imgur.com/C6IQjeq.png)"
   ]
  },
  {
   "cell_type": "markdown",
   "metadata": {
    "_cell_guid": "d36b1d1a-3952-4861-ab25-668c8f055117",
    "_uuid": "811d454d00b8b4caf4c6dadd83571058eb5d91ca"
   },
   "source": [
    "When optimizing this function, the standard errors are fixed, so the objective function is:\n",
    "![Imgur](https://i.imgur.com/zY6LXaj.png)\n",
    "Gradient descent process is the same with basic MF.\n",
    "PMF does better than MF for sparse matrices. The assumption of Gaussian makes it more accurate to predict. But for our dataset, the chosen data is not sparse, so the performance of PMF is almost the same with MF. \n"
   ]
  },
  {
   "cell_type": "code",
   "execution_count": 17,
   "metadata": {
    "_cell_guid": "ce2c0806-d23b-4ce8-870f-4762c5b52668",
    "_uuid": "6e7ef000027066c2c49c541b5cc741c2a0a17edc"
   },
   "outputs": [
    {
     "name": "stdout",
     "output_type": "stream",
     "text": [
      "iter = 1, loss = 3477.3693492941884, delta_loss = -3377.3693492941884, LR = 0.02\n",
      "iter = 2, loss = 1107.4779341862566, delta_loss = 2369.8914151079316, LR = 0.01\n",
      "iter = 3, loss = 787.4718781003163, delta_loss = 320.00605608594026, LR = 0.0105\n",
      "iter = 4, loss = 741.9659292448152, delta_loss = 45.50594885550106, LR = 0.011025000000000002\n",
      "iter = 5, loss = 710.0662350156344, delta_loss = 31.899694229180795, LR = 0.011576250000000003\n",
      "iter = 6, loss = 678.0791646747907, delta_loss = 31.98707034084373, LR = 0.012155062500000004\n",
      "iter = 7, loss = 642.6053126591007, delta_loss = 35.47385201569, LR = 0.012762815625000005\n",
      "iter = 8, loss = 604.3402770867979, delta_loss = 38.26503557230285, LR = 0.013400956406250006\n",
      "iter = 9, loss = 565.5949242578865, delta_loss = 38.74535282891134, LR = 0.014071004226562506\n",
      "iter = 10, loss = 528.1475451003371, delta_loss = 37.44737915754945, LR = 0.014774554437890632\n",
      "iter = 11, loss = 492.8973768767195, delta_loss = 35.25016822361761, LR = 0.015513282159785164\n",
      "iter = 12, loss = 460.4016860336078, delta_loss = 32.495690843111674, LR = 0.016288946267774423\n",
      "iter = 13, loss = 431.0977277804906, delta_loss = 29.30395825311723, LR = 0.017103393581163143\n",
      "iter = 14, loss = 405.25951969278475, delta_loss = 25.838208087705823, LR = 0.0179585632602213\n",
      "iter = 15, loss = 382.96102682951664, delta_loss = 22.29849286326811, LR = 0.018856491423232365\n",
      "iter = 16, loss = 364.0953973374401, delta_loss = 18.86562949207655, LR = 0.019799315994393985\n",
      "iter = 17, loss = 348.4150877009557, delta_loss = 15.680309636484367, LR = 0.020789281794113684\n",
      "iter = 18, loss = 335.5811413669297, delta_loss = 12.833946334025995, LR = 0.02182874588381937\n",
      "iter = 19, loss = 325.2136762884029, delta_loss = 10.367465078526834, LR = 0.02292018317801034\n",
      "iter = 20, loss = 316.932598147484, delta_loss = 8.281078140918908, LR = 0.024066192336910857\n",
      "iter = 21, loss = 310.3860646351784, delta_loss = 6.5465335123055866, LR = 0.0252695019537564\n",
      "iter = 22, loss = 305.26810106937444, delta_loss = 5.1179635658039615, LR = 0.02653297705144422\n",
      "iter = 23, loss = 301.32530357812396, delta_loss = 3.9427974912504737, LR = 0.02785962590401643\n",
      "iter = 24, loss = 298.35389524728623, delta_loss = 2.9714083308377326, LR = 0.029252607199217254\n",
      "iter = 25, loss = 296.1912704542416, delta_loss = 2.1626247930446425, LR = 0.030715237559178116\n",
      "iter = 26, loss = 294.7066727164681, delta_loss = 1.4845977377734698, LR = 0.03225099943713702\n",
      "iter = 27, loss = 293.79389127360264, delta_loss = 0.9127814428654801, LR = 0.03386354940899387\n",
      "iter = 28, loss = 293.3666630977501, delta_loss = 0.4272281758525196, LR = 0.03555672687944357\n",
      "iter = 29, loss = 293.3560305281168, delta_loss = 0.010632569633344247, LR = 0.03733456322341575\n",
      "iter = 30, loss = 293.7085850716332, delta_loss = -0.352554543516419, LR = 0.03920129138458654\n",
      "iter = 31, loss = 281.87923787093837, delta_loss = 11.829347200694826, LR = 0.01960064569229327\n",
      "iter = 32, loss = 280.5996770952393, delta_loss = 1.2795607756990535, LR = 0.020580677976907935\n",
      "iter = 33, loss = 280.74184153485555, delta_loss = -0.14216443961623781, LR = 0.02160971187575333\n",
      "iter = 34, loss = 275.4938439176201, delta_loss = 5.247997617235455, LR = 0.010804855937876666\n",
      "iter = 35, loss = 274.998042363434, delta_loss = 0.4958015541860732, LR = 0.0113450987347705\n",
      "iter = 36, loss = 275.0870482097426, delta_loss = -0.08900584630856656, LR = 0.011912353671509024\n",
      "iter = 37, loss = 272.46545639316923, delta_loss = 2.621591816573357, LR = 0.005956176835754512\n",
      "iter = 38, loss = 272.2632140916765, delta_loss = 0.20224230149273126, LR = 0.006253985677542238\n",
      "iter = 39, loss = 272.31198946280125, delta_loss = -0.048775371124747835, LR = 0.00656668496141935\n",
      "iter = 40, loss = 270.8971703028393, delta_loss = 1.4148191599619508, LR = 0.003283342480709675\n",
      "iter = 41, loss = 270.819210439341, delta_loss = 0.07795986349827899, LR = 0.003447509604745159\n",
      "iter = 42, loss = 270.84833275252356, delta_loss = -0.029122313182540438, LR = 0.003619885084982417\n",
      "iter = 43, loss = 270.04339943793997, delta_loss = 0.8049333145835931, LR = 0.0018099425424912086\n",
      "iter = 44, loss = 270.02626678925577, delta_loss = 0.017132648684196283, LR = 0.0019004396696157692\n",
      "iter = 45, loss = 270.04490053676153, delta_loss = -0.018633747505759857, LR = 0.0019954616530965578\n",
      "iter = 46, loss = 269.58320532536294, delta_loss = 0.4616952113985917, LR = 0.0009977308265482789\n",
      "iter = 47, loss = 269.586630324674, delta_loss = -0.0034249993110506693, LR = 0.0010476173678756928\n",
      "iter = 48, loss = 269.33362649770584, delta_loss = 0.25300382696815404, LR = 0.0005238086839378464\n",
      "iter = 49, loss = 269.33794770482825, delta_loss = -0.004321207122416126, LR = 0.0005499991181347388\n",
      "iter = 50, loss = 269.2029508524826, delta_loss = 0.13499685234563685, LR = 0.0002749995590673694\n",
      "iter = 51, loss = 269.20597518312366, delta_loss = -0.0030243306410397963, LR = 0.00028874953702073787\n",
      "iter = 52, loss = 269.1345878440125, delta_loss = 0.07138733911114059, LR = 0.00014437476851036893\n",
      "iter = 53, loss = 269.1363805418844, delta_loss = -0.0017926978719060571, LR = 0.0001515935069358874\n",
      "iter = 54, loss = 269.0987721671761, delta_loss = 0.03760837470832712, LR = 7.57967534679437e-05\n",
      "iter = 55, loss = 269.0997688606409, delta_loss = -0.0009966934647991366, LR = 7.958659114134088e-05\n",
      "the diff in loss is -0.0009966934647991366, so the GD stops\n"
     ]
    },
    {
     "data": {
      "image/png": "[encoded data removed]",
      "text/plain": [
       "<Figure size 432x288 with 1 Axes>"
      ]
     },
     "metadata": {
      "needs_background": "light"
     },
     "output_type": "display_data"
    },
    {
     "name": "stdout",
     "output_type": "stream",
     "text": [
      "the in sample MSE = 0.037518730417198276 \n",
      "the out sample MSE = 0.03604689208360437\n",
      "caculating cm..\n",
      "Normalized confusion matrix\n",
      "[[0.99 0.01]\n",
      " [0.19 0.81]]\n"
     ]
    },
    {
     "data": {
      "image/png": "[encoded data removed]",
      "text/plain": [
       "<Figure size 432x288 with 2 Axes>"
      ]
     },
     "metadata": {
      "needs_background": "light"
     },
     "output_type": "display_data"
    },
    {
     "name": "stdout",
     "output_type": "stream",
     "text": [
      "the top10 recommanded products for user 10 is [309 685 150 456 382 504 358 677 784  81]\n",
      "the real ID is ['B001TH4C2A' 'B0034KN29O' 'B004MC0CNW' 'B000ZSX4GE' 'B0049Z5OSK'\n",
      " 'B003G52BN0' 'B007Y59HVM' 'B000ZT15EQ' 'B000V17MLS' 'B0049ZCF9G']\n"
     ]
    },
    {
     "data": {
      "text/plain": [
       "array([309, 685, 150, 456, 382, 504, 358, 677, 784,  81])"
      ]
     },
     "execution_count": 17,
     "metadata": {},
     "output_type": "execute_result"
    }
   ],
   "source": [
    "def PMF(data=z, factors=30, maxIter=100, LRate=0.02, GD_end=1e-3, regU = 0.01 ,regI = 0.01 ,plot=False):\n",
    "    P = np.random.rand(total_u, factors) / 3\n",
    "    Q = np.random.rand(total_p, factors) / 3\n",
    "    y = []\n",
    "    iteration = 0\n",
    "    last_loss = 100\n",
    "    while iteration < maxIter:\n",
    "        loss = 0\n",
    "        for i in range(data.shape[0]):\n",
    "            u, p, s = data[i]\n",
    "            error = s - np.dot(P[u], Q[p])\n",
    "            loss += error ** 2/50\n",
    "            pp = P[u]\n",
    "            qq = Q[p]\n",
    "            P[u] += LRate *  (error * qq - regU*pp)\n",
    "            Q[p] += LRate * (error * pp - regI * qq)\n",
    "        loss += regU*(P*P).sum() +regI*(Q*Q).sum()\n",
    "        iteration += 1\n",
    "        y.append(loss)\n",
    "        delta_loss = last_loss - loss\n",
    "        print('iter = {}, loss = {}, delta_loss = {}, LR = {}'.format(iteration, loss, delta_loss, LRate))\n",
    "        if abs(last_loss) > abs(loss):\n",
    "            LRate *= 1.05\n",
    "        else:\n",
    "            LRate *= 0.5\n",
    "\n",
    "        if abs(delta_loss) < abs(GD_end):\n",
    "            print('the diff in loss is {}, so the GD stops'.format(delta_loss))\n",
    "            break\n",
    "        last_loss = loss\n",
    "    if plot:\n",
    "        plt.plot(y)\n",
    "        plt.show()\n",
    "    return P.dot(Q.T)\n",
    "result =PMF( factors=30, maxIter=100, LRate=0.02, GD_end=1e-3, plot=1)\n",
    "caculate_mse(result)\n",
    "drawcm(result,title='PMF')\n",
    "def rec(result, uid,n,rawId= False):\n",
    "    if uid in range(total_u):\n",
    "\t\t# we take the first n people's highest score product\n",
    "        top_N = np.argpartition(result[uid],-n)[-n:]\n",
    "        print('the top{} recommanded products for user {} is {}'.format(n,uid,top_N))\n",
    "\t\t# if rawID is on, the out put contains the real product id\n",
    "        if rawId == True:\n",
    "            print('the real ID is {}'.format(pid2PID[top_N]))\n",
    "    else:\n",
    "        print('this user has not bought anything, plz use other methods')\n",
    "    return top_N\n",
    "rec(result, 10,10,rawId= True)"
   ]
  },
  {
   "cell_type": "markdown",
   "metadata": {
    "_cell_guid": "c123a502-4d2d-49c7-9b19-4eac5f67289d",
    "_uuid": "da85f683d5de4b07b3ffee85a47c2e8fdcbecfb3"
   },
   "source": [
    "# Some other things\n",
    "We can find that the MF and PMF did a good job. And the recommendtion they make are also very reasonable.\n",
    "\n",
    "For example, the 10th user called 'G Little Value Seeker'. Based on what he bought, the chips, chocolate and tea we recommend him starbuck coffee and some dark chocholate -- Mr. ValueSeeker has not bought these, but I am sure he will like them!\n",
    "![Imgur](https://i.imgur.com/rZnqP2g.png)"
   ]
  }
 ],
 "metadata": {
  "kernelspec": {
   "display_name": "Python 3 (ipykernel)",
   "language": "python",
   "name": "python3"
  },
  "language_info": {
   "codemirror_mode": {
    "name": "ipython",
    "version": 3
   },
   "file_extension": ".py",
   "mimetype": "text/x-python",
   "name": "python",
   "nbconvert_exporter": "python",
   "pygments_lexer": "ipython3",
   "version": "3.9.12"
  }
 },
 "nbformat": 4,
 "nbformat_minor": 1
}
